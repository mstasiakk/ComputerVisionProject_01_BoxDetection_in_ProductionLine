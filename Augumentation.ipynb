{
 "cells": [
  {
   "cell_type": "code",
   "execution_count": null,
   "id": "38583874",
   "metadata": {},
   "outputs": [],
   "source": [
    "## Here will be the augumentation\n",
    "# Instead of PIL lib, cv is going to be used here"
   ]
  },
  {
   "cell_type": "code",
   "execution_count": 43,
   "id": "8b6d9b27",
   "metadata": {},
   "outputs": [],
   "source": [
    "import os\n",
    "import cv2"
   ]
  },
  {
   "cell_type": "code",
   "execution_count": 44,
   "id": "a2d51a29",
   "metadata": {},
   "outputs": [],
   "source": [
    "# Input directory: \n",
    "\n",
    "base_images_dir = \"Images/Resized_Images/images\"\n",
    "base_masks_dir = \"Images/Resized_Images/masks\"\n"
   ]
  },
  {
   "cell_type": "code",
   "execution_count": 45,
   "id": "d0149489",
   "metadata": {},
   "outputs": [
    {
     "name": "stdout",
     "output_type": "stream",
     "text": [
      "28 images and 28 masks have been loaded\n"
     ]
    }
   ],
   "source": [
    "# Read files - Images and masks\n",
    "\n",
    "base_images = {}\n",
    "base_masks = {}\n",
    "\n",
    "for img_file in os.listdir(base_images_dir):\n",
    "    if img_file.endswith(\".png\"):\n",
    "        # img_num = img_file.split(\"_\")[1] # returns 001.png\n",
    "        img_num = os.path.splitext(img_file)[0].split(\"_\")[1] # returns 001 -> correct way\n",
    "\n",
    "        base_images[img_num] = cv2.imread(os.path.join(base_images_dir, img_file))\n",
    "        mask_file = os.path.join(base_masks_dir, f\"label_{img_num}.png\")\n",
    "        mask = cv2.imread(mask_file, cv2.IMREAD_UNCHANGED)\n",
    "\n",
    "        # Convert mask from 3 channels to 1 channel - needed further for correct augumentation \n",
    "        # RGB -> Grayscale conversion\n",
    "        if mask.ndim == 3:\n",
    "            mask = cv2.cvtColor(mask, cv2.COLOR_BGR2GRAY)\n",
    "           \n",
    "        base_masks[img_num] = mask\n",
    "\n",
    "print(f\"{len(base_images)} images and {len(base_masks)} masks have been loaded\")"
   ]
  },
  {
   "cell_type": "code",
   "execution_count": 46,
   "id": "431150ca",
   "metadata": {},
   "outputs": [
    {
     "name": "stdout",
     "output_type": "stream",
     "text": [
      "[[0 0 0 ... 0 0 0]\n",
      " [0 0 0 ... 0 0 0]\n",
      " [0 0 0 ... 0 0 0]\n",
      " ...\n",
      " [0 0 0 ... 0 0 0]\n",
      " [0 0 0 ... 0 0 0]\n",
      " [0 0 0 ... 0 0 0]]\n",
      "[ 0 38]\n"
     ]
    }
   ],
   "source": [
    "# check if the mask has correct values\n",
    "print(base_masks['003'])\n",
    "import numpy as np\n",
    "\n",
    "unique_values = np.unique(base_masks['003'])\n",
    "print(unique_values)"
   ]
  },
  {
   "cell_type": "code",
   "execution_count": 47,
   "id": "dabb2b94",
   "metadata": {},
   "outputs": [],
   "source": [
    "# Output directory: \n",
    "\n",
    "output_images = \"Images/Augumented_Images/images\"\n",
    "output_masks = \"Images/Augumented_Images/masks\""
   ]
  },
  {
   "cell_type": "code",
   "execution_count": 48,
   "id": "81b2e1f2",
   "metadata": {},
   "outputs": [],
   "source": [
    "# Augumentation 01 - Rotating images and masks\n",
    "\n",
    "import cv2\n",
    "from albumentations import Compose, Affine\n",
    "import os\n",
    "\n",
    "os.makedirs(output_images, exist_ok=True)\n",
    "os.makedirs(output_masks, exist_ok=True)\n",
    "\n",
    "# Rotation angles\n",
    "angles = [10, 30, 60, 90]\n",
    "\n",
    "for img_num, img in base_images.items():\n",
    "    mask = base_masks[img_num]\n",
    "\n",
    "    for angle in angles:\n",
    "        rot = Compose([Affine(rotate=angle, p=1.0)], p=1.0)\n",
    "        aug = rot(image=img, mask=mask)\n",
    "        img_aug = aug['image']\n",
    "        mask_aug = aug['mask']\n",
    "\n",
    "        # Save with correct number and nametag\n",
    "        cv2.imwrite(os.path.join(output_images, f\"img_{img_num}_Rotated{angle}Deg.png\"), img_aug)\n",
    "        cv2.imwrite(os.path.join(output_masks, f\"label_{img_num}_Rotated{angle}Deg.png\"), mask_aug)\n",
    "        "
   ]
  },
  {
   "cell_type": "code",
   "execution_count": null,
   "id": "fb4174f5",
   "metadata": {},
   "outputs": [],
   "source": [
    "# Augumentation 02 - Flipping images and masks"
   ]
  },
  {
   "cell_type": "code",
   "execution_count": null,
   "id": "4708b941",
   "metadata": {},
   "outputs": [],
   "source": [
    "# Augumentation 03 - Brighthness adjustment for images and masks"
   ]
  },
  {
   "cell_type": "code",
   "execution_count": null,
   "id": "6c684e44",
   "metadata": {},
   "outputs": [],
   "source": [
    "# Augumentation 04 - Brighthness adjustment for images and masks"
   ]
  },
  {
   "cell_type": "code",
   "execution_count": null,
   "id": "53aa33f4",
   "metadata": {},
   "outputs": [],
   "source": [
    "# Augumentation 05 - Saturation adjustment for images and masks"
   ]
  },
  {
   "cell_type": "code",
   "execution_count": null,
   "id": "a9113bf2",
   "metadata": {},
   "outputs": [],
   "source": [
    "# Augumentation 06 - Contrast adjustment for images and masks"
   ]
  },
  {
   "cell_type": "code",
   "execution_count": null,
   "id": "0fdeaeeb",
   "metadata": {},
   "outputs": [],
   "source": [
    "# Augumentation 07 - Edge detection for images and masks"
   ]
  },
  {
   "cell_type": "code",
   "execution_count": null,
   "id": "04171789",
   "metadata": {},
   "outputs": [],
   "source": [
    "# Augumentation 08 - Sharpening adjustment for images and masks"
   ]
  },
  {
   "cell_type": "code",
   "execution_count": null,
   "id": "5300fd6b",
   "metadata": {},
   "outputs": [],
   "source": [
    "# Augumentation 09 - Blurring adjustment for images and masks"
   ]
  }
 ],
 "metadata": {
  "kernelspec": {
   "display_name": "Python 3",
   "language": "python",
   "name": "python3"
  },
  "language_info": {
   "codemirror_mode": {
    "name": "ipython",
    "version": 3
   },
   "file_extension": ".py",
   "mimetype": "text/x-python",
   "name": "python",
   "nbconvert_exporter": "python",
   "pygments_lexer": "ipython3",
   "version": "3.13.7"
  }
 },
 "nbformat": 4,
 "nbformat_minor": 5
}
