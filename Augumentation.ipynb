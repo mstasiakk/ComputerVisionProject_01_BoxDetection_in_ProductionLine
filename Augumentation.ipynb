{
 "cells": [
  {
   "cell_type": "code",
   "execution_count": null,
   "id": "38583874",
   "metadata": {},
   "outputs": [],
   "source": [
    "## Here will be the augumentation\n",
    "# Instead of PIL lib, cv is going to be used here"
   ]
  },
  {
   "cell_type": "code",
   "execution_count": 1,
   "id": "8b6d9b27",
   "metadata": {},
   "outputs": [],
   "source": [
    "import os\n",
    "import cv2"
   ]
  },
  {
   "cell_type": "code",
   "execution_count": 2,
   "id": "a2d51a29",
   "metadata": {},
   "outputs": [],
   "source": [
    "# Input directory: \n",
    "\n",
    "base_images_dir = \"Images/Resized_Images/images\"\n",
    "base_masks_dir = \"Images/Resized_Images/masks\"\n"
   ]
  },
  {
   "cell_type": "code",
   "execution_count": 3,
   "id": "d0149489",
   "metadata": {},
   "outputs": [
    {
     "name": "stdout",
     "output_type": "stream",
     "text": [
      "28 images and 28 masks have been loaded\n"
     ]
    }
   ],
   "source": [
    "# Read files - Images and masks\n",
    "\n",
    "base_images = {}\n",
    "base_masks = {}\n",
    "\n",
    "for img_file in os.listdir(base_images_dir):\n",
    "    if img_file.endswith(\".png\"):\n",
    "        # img_num = img_file.split(\"_\")[1] # returns 001.png\n",
    "        img_num = os.path.splitext(img_file)[0].split(\"_\")[1] # returns 001 -> correct way\n",
    "\n",
    "        base_images[img_num] = cv2.imread(os.path.join(base_images_dir, img_file))\n",
    "        mask_file = os.path.join(base_masks_dir, f\"label_{img_num}.png\")\n",
    "        mask = cv2.imread(mask_file, cv2.IMREAD_UNCHANGED)\n",
    "\n",
    "        # Convert mask from 3 channels to 1 channel - needed further for correct augumentation \n",
    "        # RGB -> Grayscale conversion\n",
    "        if mask.ndim == 3:\n",
    "            mask = cv2.cvtColor(mask, cv2.COLOR_BGR2GRAY)\n",
    "           \n",
    "        base_masks[img_num] = mask\n",
    "\n",
    "print(f\"{len(base_images)} images and {len(base_masks)} masks have been loaded\")"
   ]
  },
  {
   "cell_type": "code",
   "execution_count": 46,
   "id": "431150ca",
   "metadata": {},
   "outputs": [
    {
     "name": "stdout",
     "output_type": "stream",
     "text": [
      "[[0 0 0 ... 0 0 0]\n",
      " [0 0 0 ... 0 0 0]\n",
      " [0 0 0 ... 0 0 0]\n",
      " ...\n",
      " [0 0 0 ... 0 0 0]\n",
      " [0 0 0 ... 0 0 0]\n",
      " [0 0 0 ... 0 0 0]]\n",
      "[ 0 38]\n"
     ]
    }
   ],
   "source": [
    "# check if the mask has correct values\n",
    "print(base_masks['003'])\n",
    "import numpy as np\n",
    "\n",
    "unique_values = np.unique(base_masks['003'])\n",
    "print(unique_values)"
   ]
  },
  {
   "cell_type": "code",
   "execution_count": 4,
   "id": "dabb2b94",
   "metadata": {},
   "outputs": [],
   "source": [
    "# Output directory: \n",
    "\n",
    "output_images = \"Images/Augumented_Images/images\"\n",
    "output_masks = \"Images/Augumented_Images/masks\""
   ]
  },
  {
   "cell_type": "code",
   "execution_count": 48,
   "id": "81b2e1f2",
   "metadata": {},
   "outputs": [],
   "source": [
    "# Augumentation 01 - Rotating images and masks\n",
    "\n",
    "import cv2\n",
    "from albumentations import Compose, Affine\n",
    "import os\n",
    "\n",
    "os.makedirs(output_images, exist_ok=True)\n",
    "os.makedirs(output_masks, exist_ok=True)\n",
    "\n",
    "# Rotation angles\n",
    "angles = [10, 30, 60, 90]\n",
    "\n",
    "for img_num, img in base_images.items():\n",
    "    mask = base_masks[img_num]\n",
    "\n",
    "    for angle in angles:\n",
    "        rot = Compose([Affine(rotate=angle, p=1.0)], p=1.0)\n",
    "        aug = rot(image=img, mask=mask)\n",
    "        img_aug = aug['image']\n",
    "        mask_aug = aug['mask']\n",
    "\n",
    "        # Save with correct number and nametag\n",
    "        cv2.imwrite(os.path.join(output_images, f\"img_{img_num}_Rotated{angle}Deg.png\"), img_aug)\n",
    "        cv2.imwrite(os.path.join(output_masks, f\"label_{img_num}_Rotated{angle}Deg.png\"), mask_aug)\n",
    "        "
   ]
  },
  {
   "cell_type": "code",
   "execution_count": 6,
   "id": "fb4174f5",
   "metadata": {},
   "outputs": [],
   "source": [
    "# Augumentation 02 - Flipping images and masks\n",
    "\n",
    "import albumentations as A\n",
    "from albumentations import Compose, Affine\n",
    "import matplotlib.pyplot as plt\n",
    "import cv2\n",
    "\n",
    "os.makedirs(output_images, exist_ok=True)\n",
    "os.makedirs(output_masks, exist_ok=True)\n",
    "\n",
    "# Flipping horizontally\n",
    "transform = Compose([\n",
    "    A.HorizontalFlip(p=1.0),\n",
    "])\n",
    "\n",
    "# Flipping horizontally\n",
    "\n",
    "for img_num, img in base_images.items():\n",
    "    mask = base_masks[img_num]\n",
    "\n",
    "    transformed = transform(image=img, mask = mask)\n",
    "\n",
    "    img_aug = transformed[\"image\"]\n",
    "    mask_aug = transformed[\"mask\"]\n",
    "\n",
    "    # Save with correct number and nametag\n",
    "    cv2.imwrite(os.path.join(output_images, f\"img_{img_num}_Flipped_H.png\"), img_aug)\n",
    "    cv2.imwrite(os.path.join(output_masks, f\"label_{img_num}_Flipped_H.png\"), mask_aug)"
   ]
  },
  {
   "cell_type": "code",
   "execution_count": 7,
   "id": "39c8d3e0",
   "metadata": {},
   "outputs": [],
   "source": [
    "# Augumentation 03 - Saturation adjustment for images and masks\n",
    "# Augumentation 04 - Contrast adjustment for images and masks\n",
    "# Augumentation 05 - Edge detection for images and masks\n",
    "# Augumentation 06 - Sharpening adjustment for images and masks\n",
    "# Augumentation 07 - Blurring adjustment for images and masks\n",
    "\n",
    "# Fotometric augumentations are going to be done in the end on the augumented images folder itself with randomness\n",
    "\n",
    "import os\n",
    "import cv2\n",
    "import albumentations as A\n",
    "import random\n",
    "\n",
    "output_images = \"Images/Augumented_Images/images\"\n",
    "output_masks = \"Images/Augumented_Images/masks\"\n",
    "\n",
    "os.makedirs(output_images, exist_ok=True)\n",
    "os.makedirs(output_masks, exist_ok=True)\n",
    "\n",
    "# Fotometric augumentations definition\n",
    "augmentations = {\n",
    "    \"Bright\": A.RandomBrightnessContrast(brightness_limit=0.2, contrast_limit=0.2, p=1.0),\n",
    "    \"Saturation\": A.HueSaturationValue(hue_shift_limit=0, sat_shift_limit=30, val_shift_limit=0, p=1.0),\n",
    "    \"Sharpen\": A.Sharpen(alpha=(0.2,0.5), lightness=(0.5,1.0), p=1.0),\n",
    "    \"Blur\": A.Blur(blur_limit=3, p=1.0)\n",
    "}\n",
    "\n",
    "# Percentage of images that are going to be augumented\n",
    "probability = 0.5\n",
    "\n",
    "for img_file in os.listdir(output_images):\n",
    "    if not img_file.endswith(\".png\"):\n",
    "        continue\n",
    "\n",
    "    img_path = os.path.join(output_images, img_file)\n",
    "    img = cv2.imread(img_path)\n",
    "\n",
    "    mask_file = img_file.replace(\"img_\", \"label_\")\n",
    "    mask_path = os.path.join(output_masks, mask_file)\n",
    "    mask = cv2.imread(mask_path, cv2.IMREAD_UNCHANGED)\n",
    "\n",
    "    for aug_name, aug_transform in augmentations.items():\n",
    "        if random.random() > probability:\n",
    "            continue  # Pick augumentations randomly, to not make the dataset seem fake.\n",
    "\n",
    "        # augmentation only for the image\n",
    "        transformed = aug_transform(image=img)\n",
    "        img_aug = transformed[\"image\"]\n",
    "\n",
    "        # New file name with type of used augumentation\n",
    "        base_name = os.path.splitext(img_file)[0]\n",
    "        img_new_name = f\"{base_name}_{aug_name}.png\"\n",
    "        mask_new_name = f\"{os.path.splitext(mask_file)[0]}_{aug_name}.png\"\n",
    "\n",
    "        # Saving\n",
    "        cv2.imwrite(os.path.join(output_images, img_new_name), img_aug)\n",
    "        cv2.imwrite(os.path.join(output_masks, mask_new_name), mask)"
   ]
  }
 ],
 "metadata": {
  "kernelspec": {
   "display_name": "Python 3",
   "language": "python",
   "name": "python3"
  },
  "language_info": {
   "codemirror_mode": {
    "name": "ipython",
    "version": 3
   },
   "file_extension": ".py",
   "mimetype": "text/x-python",
   "name": "python",
   "nbconvert_exporter": "python",
   "pygments_lexer": "ipython3",
   "version": "3.13.7"
  }
 },
 "nbformat": 4,
 "nbformat_minor": 5
}
