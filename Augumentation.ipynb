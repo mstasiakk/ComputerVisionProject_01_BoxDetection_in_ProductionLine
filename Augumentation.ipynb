{
 "cells": [
  {
   "cell_type": "code",
   "execution_count": null,
   "id": "38583874",
   "metadata": {},
   "outputs": [],
   "source": [
    "## Here will be the augumentation"
   ]
  },
  {
   "cell_type": "code",
   "execution_count": null,
   "id": "8b6d9b27",
   "metadata": {},
   "outputs": [],
   "source": []
  }
 ],
 "metadata": {
  "language_info": {
   "name": "python"
  }
 },
 "nbformat": 4,
 "nbformat_minor": 5
}
