{
 "cells": [
  {
   "cell_type": "code",
   "execution_count": null,
   "id": "38583874",
   "metadata": {},
   "outputs": [],
   "source": [
    "## Here will be the augumentation\n",
    "# Instead of PIL lib, cv is going to be used here"
   ]
  },
  {
   "cell_type": "code",
   "execution_count": 1,
   "id": "8b6d9b27",
   "metadata": {},
   "outputs": [],
   "source": [
    "import os\n",
    "import cv2"
   ]
  },
  {
   "cell_type": "code",
   "execution_count": 4,
   "id": "a2d51a29",
   "metadata": {},
   "outputs": [],
   "source": [
    "# Input directory: \n",
    "\n",
    "base_images_dir = \"Images/Resized_Images/images\"\n",
    "base_masks_dir = \"Images/Resized_Images/masks\"\n"
   ]
  },
  {
   "cell_type": "code",
   "execution_count": 5,
   "id": "d0149489",
   "metadata": {},
   "outputs": [
    {
     "name": "stdout",
     "output_type": "stream",
     "text": [
      "28 images and 28 masks have been loaded\n"
     ]
    }
   ],
   "source": [
    "# Read files - Images and masks\n",
    "\n",
    "images = {}\n",
    "masks = {}\n",
    "\n",
    "for img_file in os.listdir(base_images_dir):\n",
    "    if img_file.endswith(\".png\"):\n",
    "        img_num = img_file.split(\"_\")[1]\n",
    "        images[img_num] = cv2.imread(os.path.join(base_images_dir, img_file))\n",
    "        mask_file = os.path.join(base_masks_dir, f\"label_{img_num}.png\")\n",
    "        masks[img_num] = cv2.imread(mask_file, cv2.IMREAD_UNCHANGED)\n",
    "\n",
    "print(f\"{len(images)} images and {len(masks)} masks have been loaded\")"
   ]
  },
  {
   "cell_type": "code",
   "execution_count": null,
   "id": "dabb2b94",
   "metadata": {},
   "outputs": [],
   "source": [
    "# Output directory: \n",
    "\n",
    "output_images = \"Images/Augmented_Images/images\"\n",
    "output_masks = \"Images/Augmented_Images/masks\""
   ]
  }
 ],
 "metadata": {
  "kernelspec": {
   "display_name": "Python 3",
   "language": "python",
   "name": "python3"
  },
  "language_info": {
   "codemirror_mode": {
    "name": "ipython",
    "version": 3
   },
   "file_extension": ".py",
   "mimetype": "text/x-python",
   "name": "python",
   "nbconvert_exporter": "python",
   "pygments_lexer": "ipython3",
   "version": "3.13.7"
  }
 },
 "nbformat": 4,
 "nbformat_minor": 5
}
